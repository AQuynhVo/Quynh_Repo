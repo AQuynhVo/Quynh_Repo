{
 "cells": [
  {
   "cell_type": "markdown",
   "metadata": {},
   "source": [
    "<h1><center>DS Capstone Project - Barcelona vs Paris - Let the battle begin.</center></h1><h3><center>Barcelona vs Paris - How (dis)similar are they?</center></h3>"
   ]
  },
  {
   "cell_type": "markdown",
   "metadata": {},
   "source": [
    "<h4>1. Problem and discussion of the background.</h4>"
   ]
  },
  {
   "cell_type": "markdown",
   "metadata": {},
   "source": [
    "Barcelona and Paris are two of my most favourite cities in Europe. But why is it that I like these cities the most? Are they similar or very dissimilar. Both cities have different backgrounds, but what makes them so popular. Let's find out if we can use data to solve my problem and to find out which city should be chosen for the next visit."
   ]
  },
  {
   "cell_type": "markdown",
   "metadata": {},
   "source": [
    "<h4>2. How will data be used to solve the problem. </h4>"
   ]
  },
  {
   "cell_type": "markdown",
   "metadata": {},
   "source": [
    "Now we have chosen to use data to find out the (dis)similarities between the two cities, we need to decide which/what data to use. Let's use data from Wikipedia and FourSquare and find out if they can help us to find the answer!\n",
    "To specify our quest a little bit more we will look for venues and more specifically the number of Vietnamese, Chinese, and Japanese restaurants in both cities as well as list down the 10 most common venues in both cities Neighbourhood wise. I have chosen these types of cuisines as I have an South-East Asian background. Foursquare is a perfect provider to supply us this data.\n",
    "Wikipedia will be used for getting a start on geospatial information on the districts of Barcelona and arrondissements of Paris.\n",
    "The outcome of the study will be used to determine to which city the next visit will be organized."
   ]
  },
  {
   "cell_type": "markdown",
   "metadata": {},
   "source": [
    "<h4>3. Let the battle begin. </h4>"
   ]
  },
  {
   "cell_type": "code",
   "execution_count": null,
   "metadata": {},
   "outputs": [],
   "source": [
    "! pip install geopy"
   ]
  },
  {
   "cell_type": "code",
   "execution_count": null,
   "metadata": {},
   "outputs": [],
   "source": [
    "import numpy as np # library to handle data in a vectorized manner\n",
    "\n",
    "import pandas as pd # library for data analsysis\n",
    "pd.set_option('display.max_columns', None)\n",
    "pd.set_option('display.max_rows', None)\n",
    "pd.set_option('display.expand_frame_repr', False)\n",
    "\n",
    "import json # library to handle JSON files\n",
    "\n",
    "#!conda install -c conda-forge geopy --yes # uncomment this line if you haven't completed the Foursquare API lab\n",
    "from geopy.geocoders import Nominatim # convert an address into latitude and longitude values\n",
    "\n",
    "import requests # library to handle requests\n",
    "from pandas.io.json import json_normalize # tranform JSON file into a pandas dataframe\n",
    "\n",
    "# Matplotlib and associated plotting modules\n",
    "import matplotlib\n",
    "import matplotlib.cm as cm\n",
    "import matplotlib.colors as colors\n",
    "import matplotlib.pyplot as plt\n",
    "\n",
    "# import k-means from clustering stage\n",
    "from sklearn.cluster import KMeans\n",
    "\n",
    "#!conda install -c conda-forge folium=0.5.0 --yes # uncomment this line if you haven't completed the Foursquare API lab\n",
    "import folium # map rendering library\n",
    "\n",
    "print('Libraries imported.')"
   ]
  },
  {
   "cell_type": "code",
   "execution_count": null,
   "metadata": {},
   "outputs": [],
   "source": [
    "## Foursquare ID\n",
    "CLIENT_ID = 'NDGX4RBYCYKMWHJNX2MALLNW4ETTWAXUP3D54BN3N5MEGBVJ' # your Foursquare ID\n",
    "CLIENT_SECRET = 'LUXBWPXTLFIEYSOGH4JI5TM4MBWS5010VBHZ2J243HQJMC10' # your Foursquare Secret\n",
    "VERSION = '20200630' # Foursquare API version\n",
    "\n",
    "#Fourshare Variables\n",
    "LIMIT = 100 # limit of number of venues returned by Foursquare API\n",
    "radius = 500 # define radius\n",
    "\n",
    "venue_category_1 = '4bf58dd8d48988d14a941735' # Vietnamese restaurant \n",
    "venue_category_2 = '4bf58dd8d48988d145941735' # Chinese restaurant\n",
    "venue_category_3 = '4bf58dd8d48988d111941735' # Japanese restaurant\n",
    "\n",
    "category_list = ['Vietnamese Restaurant' , 'Chinese Restaurant', 'Japanese Restaurant']"
   ]
  },
  {
   "cell_type": "code",
   "execution_count": null,
   "metadata": {},
   "outputs": [],
   "source": [
    "#Retrieve the hierarchical category list from FourSquare\n",
    "venue_categories_url = 'https://api.foursquare.com/v2/venues/categories?client_id={}&client_secret={}&v={}'.format(CLIENT_ID,CLIENT_SECRET,VERSION)\n",
    "\n",
    "#venue_categories_url\n",
    "!wget -q -O 'venue_categories_hierarchy.json' \"https://api.foursquare.com/v2/venues/categories?client_id=NDGX4RBYCYKMWHJNX2MALLNW4ETTWAXUP3D54BN3N5MEGBVJ&client_secret=LUXBWPXTLFIEYSOGH4JI5TM4MBWS5010VBHZ2J243HQJMC10&v=20180605\"\n",
    "#!wget -q -O 'venue_categories_hierarchy.json' \n",
    "print('Data downloaded!')\n"
   ]
  },
  {
   "cell_type": "code",
   "execution_count": null,
   "metadata": {},
   "outputs": [],
   "source": [
    "venue_results = requests.get(venue_categories_url).json()[\"response\"]['categories'][3]\n",
    "\n",
    "venue_results_main = pd.json_normalize(data=venue_results)\n",
    "venue_results_main = venue_results_main.rename(columns={'name': 'MainCategoryName'})\n",
    "venue_results_main = venue_results_main.drop(columns=['categories', 'pluralName', 'shortName', 'icon.prefix', 'icon.suffix'])\n",
    "\n",
    "venue_results_1 = pd.json_normalize(data=venue_results, record_path=['categories'], meta=['id'], record_prefix='l1_')\n",
    "venue_results_1 = venue_results_1.drop(columns=['l1_categories','l1_pluralName', 'l1_shortName', 'l1_icon.prefix', 'l1_icon.suffix'])\n",
    "\n",
    "venue_results_2 = pd.json_normalize(data=venue_results, record_path=['categories','categories'], meta=[['name','id']], record_prefix='l2_')\n",
    "venue_results_2 = venue_results_2.rename(columns={'name.id': 'CategoryId_l1', 'l2_id':'CategoryId_l2', 'l2_name':'CategoryName_l2'})\n",
    "venue_results_2 = venue_results_2.drop(columns=['l2_categories','l2_pluralName', 'l2_shortName', 'l2_icon.prefix', 'l2_icon.suffix'])\n",
    "\n",
    "venue_results_3 = pd.json_normalize(data=venue_results, record_path=['categories','categories','categories'], meta=[['name', 'name','id']], record_prefix='l3_')\n",
    "venue_results_3 = venue_results_3.rename(columns={'name.name.id': 'CategoryId_l2', 'l3_id':'CategoryId_l3', 'l3_name':'CategoryName_l3'})\n",
    "venue_results_3 = venue_results_3.drop(columns=['l3_categories','l3_pluralName', 'l3_shortName', 'l3_icon.prefix', 'l3_icon.suffix'])\n",
    "\n",
    "venue_results_4 = pd.json_normalize(data=venue_results, record_path=['categories','categories','categories','categories'], meta=[['name','name', 'name','id']], record_prefix='l4_')\n",
    "venue_results_4 = venue_results_4.rename(columns={'name.name.name.id': 'CategoryId_l3', 'l4_id':'CategoryId_l4', 'l4_name':'CategoryName_l4'})\n",
    "venue_results_4 = venue_results_4.drop(columns=['l4_categories','l4_pluralName', 'l4_shortName', 'l4_icon.prefix', 'l4_icon.suffix'])\n",
    "\n",
    "venue_categories = pd.merge(venue_results_main, venue_results_1, how='inner', on='id')\n",
    "venue_categories = venue_categories.rename(columns={'id': 'MainCategoryId', 'l1_id': 'CategoryId_l1', 'l1_name': 'CategoryName_L1' } )\n",
    "\n",
    "venue_categories = pd.merge(venue_categories, venue_results_2, how='left', left_on='CategoryId_l1', right_on='CategoryId_l1')\n",
    "venue_categories = pd.merge(venue_categories, venue_results_3, how='left', left_on='CategoryId_l2', right_on='CategoryId_l2')\n",
    "venue_categories = pd.merge(venue_categories, venue_results_4, how='left', left_on='CategoryId_l3', right_on='CategoryId_l3')\n",
    "venue_categories = venue_categories.drop(columns=['MainCategoryId','CategoryId_l1', 'CategoryId_l2', 'CategoryId_l3', 'CategoryId_l4'])\n",
    "\n",
    "venue_categories.CategoryName_l2.fillna(venue_categories.CategoryName_L1, inplace=True)\n",
    "venue_categories.CategoryName_l3.fillna(venue_categories.CategoryName_l2, inplace=True)\n",
    "venue_categories.CategoryName_l4.fillna(venue_categories.CategoryName_l3, inplace=True)\n",
    "venue_categories.head()"
   ]
  },
  {
   "cell_type": "code",
   "execution_count": null,
   "metadata": {},
   "outputs": [],
   "source": [
    "# Function to get all nearby venues given the geo coordinates of a place.\n",
    "def getNearbyVenues(names, latitudes, longitudes, radius=500):\n",
    "    \n",
    "    venues_list=[]\n",
    "    for name, lat, lng in zip(names, latitudes, longitudes):\n",
    "        #print(name)\n",
    "            \n",
    "        # create the API request URL\n",
    "        url = 'https://api.foursquare.com/v2/venues/explore?&client_id={}&client_secret={}&v={}&ll={},{}&radius={}&limit={}'.format(\n",
    "            CLIENT_ID, \n",
    "            CLIENT_SECRET, \n",
    "            VERSION, \n",
    "            lat, \n",
    "            lng, \n",
    "            radius, \n",
    "            LIMIT)\n",
    "            \n",
    "        # make the GET request\n",
    "        results = requests.get(url).json()[\"response\"]['groups'][0]['items']\n",
    "        \n",
    "        # return only relevant information for each nearby venue\n",
    "        venues_list.append([(\n",
    "            name, \n",
    "            lat, \n",
    "            lng, \n",
    "            v['venue']['name'], \n",
    "            v['venue']['location']['lat'], \n",
    "            v['venue']['location']['lng'],  \n",
    "            v['venue']['categories'][0]['name']) for v in results])\n",
    "\n",
    "    nearby_venues = pd.DataFrame([item for venue_list in venues_list for item in venue_list])\n",
    "    nearby_venues.columns = ['Neighborhood', \n",
    "                  'Neighborhood Latitude', \n",
    "                  'Neighborhood Longitude', \n",
    "                  'Venue', \n",
    "                  'Venue Latitude', \n",
    "                  'Venue Longitude', \n",
    "                  'Venue Category']\n",
    "    \n",
    "    return(nearby_venues)"
   ]
  },
  {
   "cell_type": "code",
   "execution_count": null,
   "metadata": {},
   "outputs": [],
   "source": [
    "# Function to get all nearby venues which match the given Category Id's and given the geo coordinates of a place.\n",
    "def getNearbyVenuesCat(names, latitudes, longitudes, radius=500):\n",
    "    \n",
    "    venues_list_cat=[]\n",
    "    for name, lat, lng in zip(names, latitudes, longitudes):\n",
    "        #print(name)\n",
    "            \n",
    "        # create the API request URL\n",
    "        url_cat = 'https://api.foursquare.com/v2/venues/explore?&client_id={}&client_secret={}&v={}&ll={},{}&radius={}&limit={}&categoryId={},{},{}'.format(\n",
    "            CLIENT_ID, \n",
    "            CLIENT_SECRET, \n",
    "            VERSION, \n",
    "            lat, \n",
    "            lng, \n",
    "            radius, \n",
    "            LIMIT,\n",
    "            venue_category_1,\n",
    "            venue_category_2,\n",
    "            venue_category_3)\n",
    "            \n",
    "        # make the GET request\n",
    "        results_cat = requests.get(url_cat).json()[\"response\"]['groups'][0]['items']\n",
    "        \n",
    "        # return only relevant information for each nearby venue\n",
    "        venues_list_cat.append([(\n",
    "            name, \n",
    "            lat, \n",
    "            lng, \n",
    "            v['venue']['name'], \n",
    "            v['venue']['location']['lat'], \n",
    "            v['venue']['location']['lng'],  \n",
    "            v['venue']['categories'][0]['name']) for v in results_cat])\n",
    "\n",
    "    nearby_venues_cat = pd.DataFrame([item for venues_list_cat in venues_list_cat for item in venues_list_cat])\n",
    "    nearby_venues_cat.columns = ['Neighborhood', \n",
    "                  'Neighborhood Latitude', \n",
    "                  'Neighborhood Longitude', \n",
    "                  'Venue', \n",
    "                  'Venue Latitude', \n",
    "                  'Venue Longitude', \n",
    "                  'Venue Category']\n",
    "    \n",
    "    return(nearby_venues_cat)"
   ]
  },
  {
   "cell_type": "markdown",
   "metadata": {},
   "source": [
    "<h4>3.1 Show Barcelona and the boroughs on the map. </h4>"
   ]
  },
  {
   "cell_type": "markdown",
   "metadata": {},
   "source": [
    "Paris has in total 10 boroughs (called districts) and 75 neighborhoods. To explore, analyze and segment neighborhoods, longitude and latitude of each neighbor and borough will be added.\n",
    "The data is stored in a CSV file and its content is retrieved through Wikipedia."
   ]
  },
  {
   "cell_type": "code",
   "execution_count": null,
   "metadata": {},
   "outputs": [],
   "source": [
    "!wget -q -O 'barcelona_districts_geodata.csv'  \"https://raw.githubusercontent.com/AQuynhVo/Quynh_Repo/master/DS_Capstone_Project/barcelona_districts_geodata.csv\"\n",
    "print('Data downloaded!')"
   ]
  },
  {
   "cell_type": "code",
   "execution_count": null,
   "metadata": {},
   "outputs": [],
   "source": [
    "bcn_data = pd.read_csv('barcelona_districts_geodata.csv', sep=';')\n",
    "\n",
    "bcn_data.head()"
   ]
  },
  {
   "cell_type": "code",
   "execution_count": null,
   "metadata": {},
   "outputs": [],
   "source": [
    "print('The Barcelona dataframe has {} boroughs (Districts) and {} neighbourhoods.'.format(\n",
    "        len(bcn_data['District'].unique()),\n",
    "        bcn_data.shape[0]\n",
    "    )\n",
    ")"
   ]
  },
  {
   "cell_type": "code",
   "execution_count": null,
   "metadata": {},
   "outputs": [],
   "source": [
    "bcn_address = 'Barcelona, ES'\n",
    "\n",
    "geolocator = Nominatim(user_agent=\"bcn_explorer\")\n",
    "bcn_location = geolocator.geocode(bcn_address)\n",
    "bcn_latitude = bcn_location.latitude\n",
    "bcn_longitude = bcn_location.longitude\n",
    "print('The geograpical coordinate of Barcelona (ES) are {}, {}.'.format(bcn_latitude, bcn_longitude))"
   ]
  },
  {
   "cell_type": "code",
   "execution_count": null,
   "metadata": {},
   "outputs": [],
   "source": [
    "# create map of Barcelona using latitude and longitude values\n",
    "map_barcelona = folium.Map(location=[bcn_latitude, bcn_longitude], zoom_start=12)\n",
    "\n",
    "# add markers to map\n",
    "for lat, lng, borough, neighbourhood in zip(bcn_data['Latitude'], bcn_data['Longitude'], bcn_data['District'], bcn_data['Neighbourhood']):\n",
    "    label = '{}, {}'.format(neighbourhood, borough)\n",
    "    label = folium.Popup(label, parse_html=True)\n",
    "    folium.CircleMarker(\n",
    "        [lat, lng],\n",
    "        radius=5,\n",
    "        popup=label,\n",
    "        color='blue',\n",
    "        fill=True,\n",
    "        fill_color='#3186cc',\n",
    "        fill_opacity=0.7,\n",
    "        parse_html=False).add_to(map_barcelona)  \n",
    "    \n",
    "    \n",
    "# display map\n",
    "map_barcelona"
   ]
  },
  {
   "cell_type": "markdown",
   "metadata": {},
   "source": [
    "<h4>3.2 Using Foursquare to discover Barcelona Venues. </h4>"
   ]
  },
  {
   "cell_type": "markdown",
   "metadata": {},
   "source": [
    "<h4>3.2.1 Using Foursquare to discover Barcelona Venues from all kinds of categories</h4>"
   ]
  },
  {
   "cell_type": "code",
   "execution_count": null,
   "metadata": {},
   "outputs": [],
   "source": [
    "barcelona_venues = getNearbyVenues(names=bcn_data['Neighbourhood'],\n",
    "                                   latitudes=bcn_data['Latitude'],\n",
    "                                   longitudes=bcn_data['Longitude']\n",
    "                                  )"
   ]
  },
  {
   "cell_type": "code",
   "execution_count": null,
   "metadata": {},
   "outputs": [],
   "source": [
    "print(barcelona_venues.shape)\n",
    "barcelona_venues.head()\n",
    "#barcelona_venues.groupby('Neighborhood').count()"
   ]
  },
  {
   "cell_type": "code",
   "execution_count": null,
   "metadata": {},
   "outputs": [],
   "source": [
    "# Let's find out how many unique categories can be curated from all the returned venues\n",
    "print('There are {} uniques categories in Barcelona.'.format(len(barcelona_venues['Venue Category'].unique())))"
   ]
  },
  {
   "cell_type": "markdown",
   "metadata": {},
   "source": [
    "<h4>3.2.1 Using Foursquare to discover Barcelona Venues by having a look at the selected categories. </h4>"
   ]
  },
  {
   "cell_type": "code",
   "execution_count": null,
   "metadata": {},
   "outputs": [],
   "source": [
    "barcelona_venues_sel_cat = getNearbyVenuesCat(names=bcn_data['Neighbourhood'],\n",
    "                                   latitudes=bcn_data['Latitude'],\n",
    "                                   longitudes=bcn_data['Longitude']\n",
    "                                  )"
   ]
  },
  {
   "cell_type": "code",
   "execution_count": null,
   "metadata": {},
   "outputs": [],
   "source": [
    "print(barcelona_venues_sel_cat.shape)\n",
    "barcelona_venues_sel_cat\n",
    "\n",
    "barcelona_venues_sel_cat_ext = pd.merge(barcelona_venues_sel_cat, venue_categories, how='left', left_on='Venue Category', right_on='CategoryName_l3')\n",
    "\n",
    "barcelona_venues_sel_cat_ext = barcelona_venues_sel_cat_ext.drop(columns=['MainCategoryName', 'CategoryName_L1', 'CategoryName_l3', 'CategoryName_l4'])\n",
    "\n",
    "barcelona_venues_sel_cat_ext.CategoryName_l2.fillna(barcelona_venues_sel_cat_ext['Venue Category'], inplace=True)\n",
    "\n",
    "barcelona_venues_sel_cat_ext = barcelona_venues_sel_cat_ext.rename(columns={'CategoryName_l2': 'Venue Final Category'})\n",
    "\n",
    "print(barcelona_venues_sel_cat_ext.head())\n",
    "print(barcelona_venues_sel_cat_ext.shape)"
   ]
  },
  {
   "cell_type": "code",
   "execution_count": null,
   "metadata": {},
   "outputs": [],
   "source": [
    "#Filter out records not in the category list.\n",
    "barcelona_venues_sel_cat_ext = barcelona_venues_sel_cat_ext[barcelona_venues_sel_cat_ext['Venue Final Category'].isin(category_list)]\n",
    "print(barcelona_venues_sel_cat_ext.shape)"
   ]
  },
  {
   "cell_type": "code",
   "execution_count": null,
   "metadata": {},
   "outputs": [],
   "source": [
    "# Number of restaurants per Neighbourhood and Venue Final Category\n",
    "Barcelona_City_Stats_Selected_Categories = barcelona_venues_sel_cat_ext.groupby( ['Neighborhood', 'Venue Final Category'] ).size().to_frame(name = 'count').reset_index()\n",
    "Barcelona_City_Stats_Selected_Categories = pd.merge(Barcelona_City_Stats_Selected_Categories, bcn_data, how='left', left_on='Neighborhood', right_on='Neighbourhood')\n",
    "Barcelona_City_Stats_Selected_Categories"
   ]
  },
  {
   "cell_type": "code",
   "execution_count": null,
   "metadata": {},
   "outputs": [],
   "source": [
    "#df.pivot(index='foo', columns='bar', values='baz')\n",
    "Barcelona_City_Stats_Selected_Categories_Pivoted = pd.pivot_table(Barcelona_City_Stats_Selected_Categories, index=['District','Neighborhood'], columns='Venue Final Category', values='count')\n",
    "Barcelona_City_Stats_Selected_Categories_Pivoted"
   ]
  },
  {
   "cell_type": "code",
   "execution_count": null,
   "metadata": {},
   "outputs": [],
   "source": [
    "#import matplotlib\n",
    "#import matplotlib.pyplot as plt\n",
    "\n",
    "custom_colors = ['#5cb85c','#5bc0de','#d9534f']\n",
    "\n",
    "ax = Barcelona_City_Stats_Selected_Categories_Pivoted.plot(kind='bar', stacked=False, figsize=(20, 8), color=custom_colors, fontsize=14, width = 0.8 )\n",
    "ax.set_title('Number of Venues per Barcelona District & Neighbourhood', fontsize=16)\n",
    "ax.spines['top'].set_visible(False)\n",
    "ax.spines['right'].set_visible(False)\n",
    "ax.spines['left'].set_visible(False)\n",
    "plt.legend(fontsize=14)\n",
    "plt.tick_params(left=False, labelleft=False)\n",
    "   \n",
    "for p in ax.patches:\n",
    "    ax.annotate(str(p.get_height()), (p.get_x()+.13, p.get_height() +1.5), va=\"center\", ha=\"center\")\n",
    "#plt.show()"
   ]
  },
  {
   "cell_type": "code",
   "execution_count": null,
   "metadata": {},
   "outputs": [],
   "source": [
    "# add Venue markers to map\n",
    "for lat, lng, venue, venuecategory in zip(barcelona_venues_sel_cat['Venue Latitude'], barcelona_venues_sel_cat['Venue Longitude'], barcelona_venues_sel_cat['Venue'], barcelona_venues_sel_cat['Venue Category']):\n",
    "    label = '{}, {}'.format(venue, venuecategory)\n",
    "    label = folium.Popup(label, parse_html=True)\n",
    "    folium.CircleMarker(\n",
    "        [lat, lng],\n",
    "        radius=3,\n",
    "        popup=label,\n",
    "        color='red',\n",
    "        fill=True,\n",
    "        fill_color='#3186cc',\n",
    "        fill_opacity=0.7,\n",
    "        parse_html=False).add_to(map_barcelona)  \n",
    "    \n",
    "    \n",
    "# display map\n",
    "map_barcelona"
   ]
  },
  {
   "cell_type": "markdown",
   "metadata": {},
   "source": [
    "<h4>3.3 Show Paris and the boroughs on the map. </h4>"
   ]
  },
  {
   "cell_type": "markdown",
   "metadata": {},
   "source": [
    "Paris has in total 20 boroughs (called arrondissements in French) and 80 neighborhoods. To explore, analyze and segment neighborhoods, longitude and latitude of each neighbor and borough will be added.\n",
    "This dataset exists for free on the web.\n",
    "\n",
    "Links to the dataset are:\n",
    "- https://www.data.gouv.fr/fr/datasets/r/e88c6fda-1d09-42a0-a069-606d3259114e\n",
    "- https://opendata.paris.fr/explore/dataset/quartier_paris/download/?format=json&timezone=Europe/Berlin"
   ]
  },
  {
   "cell_type": "code",
   "execution_count": null,
   "metadata": {},
   "outputs": [],
   "source": [
    "!wget -q -O 'paris_data.json'  \"https://opendata.paris.fr/explore/dataset/quartier_paris/download/?format=json&timezone=Europe/Berlin\"\n",
    "print('Data downloaded!')"
   ]
  },
  {
   "cell_type": "code",
   "execution_count": null,
   "metadata": {},
   "outputs": [],
   "source": [
    "with open('paris_data.json') as paris_json_data:\n",
    "    paris_data = json.load(paris_json_data)\n",
    "\n",
    "##paris_data"
   ]
  },
  {
   "cell_type": "code",
   "execution_count": null,
   "metadata": {},
   "outputs": [],
   "source": [
    "# Tranform the data into a *pandas* dataframe\n",
    "# The next task is essentially transforming this data of nested Python dictionaries into a *pandas* dataframe. So let's start by creating an empty dataframe.\n",
    "# paris_data[1]\n",
    "\n",
    "# define the dataframe columns\n",
    "column_names = ['Borough', 'Neighbourhood', 'Latitude', 'Longitude'] \n",
    "\n",
    "# instantiate the dataframe\n",
    "paris_neighbourhoods = pd.DataFrame(columns=column_names)\n",
    "\n",
    "for data in paris_data:\n",
    "    borough = neighborhood_name = data['fields']['c_ar'] \n",
    "    neighborhood_name = data['fields']['l_qu']\n",
    "        \n",
    "    neighborhood_latlon = data['geometry']['coordinates']\n",
    "    neighborhood_lat = neighborhood_latlon[1]\n",
    "    neighborhood_lon = neighborhood_latlon[0]\n",
    "    \n",
    "    paris_neighbourhoods = paris_neighbourhoods.append({'Borough': borough,\n",
    "                                          'Neighbourhood': neighborhood_name,\n",
    "                                          'Latitude': neighborhood_lat,\n",
    "                                          'Longitude': neighborhood_lon}, ignore_index=True)\n",
    "    \n",
    "paris_neighbourhoods.head()"
   ]
  },
  {
   "cell_type": "code",
   "execution_count": null,
   "metadata": {},
   "outputs": [],
   "source": [
    "print('The Paris dataframe has {} boroughs and {} neighbourhoods.'.format(\n",
    "        len(paris_neighbourhoods['Borough'].unique()),\n",
    "        paris_neighbourhoods.shape[0]\n",
    "    )\n",
    ")"
   ]
  },
  {
   "cell_type": "code",
   "execution_count": null,
   "metadata": {},
   "outputs": [],
   "source": [
    "par_address = 'Paris, FR'\n",
    "\n",
    "par_geolocator = Nominatim(user_agent=\"par__explorer\")\n",
    "par_location = par_geolocator.geocode(par_address)\n",
    "par_latitude = par_location.latitude\n",
    "par_longitude = par_location.longitude\n",
    "print('The geograpical coordinate of Paris (FR) are {}, {}.'.format(par_latitude, par_longitude))"
   ]
  },
  {
   "cell_type": "code",
   "execution_count": null,
   "metadata": {},
   "outputs": [],
   "source": [
    "# create map of Toronto using latitude and longitude values\n",
    "map_paris = folium.Map(location=[par_latitude, par_longitude], zoom_start=12)\n",
    "\n",
    "# add markers to map\n",
    "for lat, lng, borough, neighbourhood in zip(paris_neighbourhoods['Latitude'], paris_neighbourhoods['Longitude'], paris_neighbourhoods['Borough'], paris_neighbourhoods['Neighbourhood']):\n",
    "    label = '{}, {}'.format(neighbourhood, borough)\n",
    "    label = folium.Popup(label, parse_html=True)\n",
    "    folium.CircleMarker(\n",
    "        [lat, lng],\n",
    "        radius=5,\n",
    "        popup=label,\n",
    "        color='blue',\n",
    "        fill=True,\n",
    "        fill_color='#3186cc',\n",
    "        fill_opacity=0.7,\n",
    "        parse_html=False).add_to(map_paris)  \n",
    "    \n",
    "map_paris"
   ]
  },
  {
   "cell_type": "markdown",
   "metadata": {},
   "source": [
    "<h4>3.4 Using Foursquare to discover Paris Venues. </h4>"
   ]
  },
  {
   "cell_type": "markdown",
   "metadata": {},
   "source": [
    "<h4>3.4.1 Using Foursquare to discover Paris Venues from all kinds of categories</h4>"
   ]
  },
  {
   "cell_type": "code",
   "execution_count": null,
   "metadata": {},
   "outputs": [],
   "source": [
    "paris_venues = getNearbyVenues(names=paris_neighbourhoods['Neighbourhood'],\n",
    "                                   latitudes=paris_neighbourhoods['Latitude'],\n",
    "                                   longitudes=paris_neighbourhoods['Longitude']\n",
    "                                  )"
   ]
  },
  {
   "cell_type": "code",
   "execution_count": null,
   "metadata": {},
   "outputs": [],
   "source": [
    "print(paris_venues.shape)\n",
    "paris_venues.head()\n",
    "#paris_venues.groupby('Neighborhood').count()\n",
    "\n"
   ]
  },
  {
   "cell_type": "code",
   "execution_count": null,
   "metadata": {},
   "outputs": [],
   "source": [
    "#### Let's find out how many unique categories can be curated from all the returned venues\n",
    "print('There are {} uniques categories in Paris.'.format(len(paris_venues['Venue Category'].unique())))"
   ]
  },
  {
   "cell_type": "markdown",
   "metadata": {},
   "source": [
    "<h4>3.4.2 Using Foursquare to discover Paris Venues by having a look at the selected categories. </h4>"
   ]
  },
  {
   "cell_type": "code",
   "execution_count": null,
   "metadata": {},
   "outputs": [],
   "source": [
    "paris_venues_sel_cat = getNearbyVenuesCat(names=paris_neighbourhoods['Neighbourhood'],\n",
    "                                   latitudes=paris_neighbourhoods['Latitude'],\n",
    "                                   longitudes=paris_neighbourhoods['Longitude']\n",
    "                                  )"
   ]
  },
  {
   "cell_type": "code",
   "execution_count": null,
   "metadata": {},
   "outputs": [],
   "source": [
    "print(paris_venues_sel_cat.shape)\n",
    "\n",
    "#barcelona_venues_sel_cat.groupby('Neighborhood').count()\n",
    "\n",
    "paris_venues_sel_cat_ext = pd.merge(paris_venues_sel_cat, venue_categories, how='left', left_on='Venue Category', right_on='CategoryName_l3')\n",
    "\n",
    "paris_venues_sel_cat_ext = paris_venues_sel_cat_ext.drop(columns=['MainCategoryName', 'CategoryName_L1', 'CategoryName_l3', 'CategoryName_l4'])\n",
    "\n",
    "paris_venues_sel_cat_ext.CategoryName_l2.fillna(paris_venues_sel_cat_ext['Venue Category'], inplace=True)\n",
    "\n",
    "paris_venues_sel_cat_ext = paris_venues_sel_cat_ext.rename(columns={'CategoryName_l2': 'Venue Final Category'})\n",
    "\n",
    "print(paris_venues_sel_cat_ext.head())\n",
    "print(paris_venues_sel_cat_ext.shape)"
   ]
  },
  {
   "cell_type": "code",
   "execution_count": null,
   "metadata": {},
   "outputs": [],
   "source": [
    "#Filter out records not in the category list.\n",
    "paris_venues_sel_cat_ext = paris_venues_sel_cat_ext[paris_venues_sel_cat_ext['Venue Final Category'].isin(category_list)]\n",
    "print(paris_venues_sel_cat_ext.shape)"
   ]
  },
  {
   "cell_type": "code",
   "execution_count": null,
   "metadata": {},
   "outputs": [],
   "source": [
    "# Number of restaurants per Neighbourhood and Venue Final Category\n",
    "Paris_City_Stats_Selected_Categories = paris_venues_sel_cat_ext.groupby( ['Neighborhood', 'Venue Final Category'] ).size().to_frame(name = 'count').reset_index()\n",
    "Paris_City_Stats_Selected_Categories = pd.merge(Paris_City_Stats_Selected_Categories, paris_neighbourhoods, how='left', left_on='Neighborhood', right_on='Neighbourhood')\n",
    "Paris_City_Stats_Selected_Categories"
   ]
  },
  {
   "cell_type": "code",
   "execution_count": null,
   "metadata": {},
   "outputs": [],
   "source": [
    "#df.pivot(index='foo', columns='bar', values='baz')\n",
    "Paris_City_Stats_Selected_Categories_Pivoted = pd.pivot_table(Paris_City_Stats_Selected_Categories, index=['Borough','Neighborhood'], columns='Venue Final Category', values='count')\n",
    "Paris_City_Stats_Selected_Categories_Pivoted"
   ]
  },
  {
   "cell_type": "code",
   "execution_count": null,
   "metadata": {},
   "outputs": [],
   "source": [
    "#import matplotlib\n",
    "#import matplotlib.pyplot as plt\n",
    "\n",
    "custom_colors = ['#5cb85c','#5bc0de','#d9534f']\n",
    "\n",
    "ax = Paris_City_Stats_Selected_Categories_Pivoted.plot(kind='bar', stacked=False, figsize=(20, 8), color=custom_colors, fontsize=10, width = 0.8 )\n",
    "ax.set_title('Number of Venues per Paris Arrondissement & Neighbourhood', fontsize=16)\n",
    "ax.spines['top'].set_visible(False)\n",
    "ax.spines['right'].set_visible(False)\n",
    "ax.spines['left'].set_visible(False)\n",
    "plt.legend(fontsize=14)\n",
    "plt.tick_params(left=False, labelleft=False)\n",
    "   \n",
    "for p in ax.patches:\n",
    "    ax.annotate(str(p.get_height()), (p.get_x()+.13, p.get_height() +1.5), va=\"center\", ha=\"center\")\n",
    "#plt.show()"
   ]
  },
  {
   "cell_type": "code",
   "execution_count": null,
   "metadata": {},
   "outputs": [],
   "source": [
    "paris_venues_sel_cat_ext['Venue Category'].unique()"
   ]
  },
  {
   "cell_type": "code",
   "execution_count": null,
   "metadata": {},
   "outputs": [],
   "source": [
    "# add Venue markers to map\n",
    "for lat, lng, venue, venuecategory in zip(paris_venues_sel_cat_ext['Venue Latitude'], paris_venues_sel_cat['Venue Longitude'], paris_venues_sel_cat['Venue'], paris_venues_sel_cat['Venue Category']):\n",
    "    label = '{}, {}'.format(venue, venuecategory)\n",
    "    label = folium.Popup(label, parse_html=True)\n",
    "    folium.CircleMarker(\n",
    "        [lat, lng],\n",
    "        radius=3,\n",
    "        popup=label,\n",
    "        color='red',\n",
    "        fill=True,\n",
    "        fill_color='#3186cc',\n",
    "        fill_opacity=0.7,\n",
    "        parse_html=False).add_to(map_paris)  \n",
    "    \n",
    "    \n",
    "# display map\n",
    "map_paris"
   ]
  }
 ],
 "metadata": {
  "kernelspec": {
   "display_name": "Python",
   "language": "python",
   "name": "conda-env-python-py"
  },
  "language_info": {
   "codemirror_mode": {
    "name": "ipython",
    "version": 3
   },
   "file_extension": ".py",
   "mimetype": "text/x-python",
   "name": "python",
   "nbconvert_exporter": "python",
   "pygments_lexer": "ipython3",
   "version": "3.6.11"
  }
 },
 "nbformat": 4,
 "nbformat_minor": 4
}
